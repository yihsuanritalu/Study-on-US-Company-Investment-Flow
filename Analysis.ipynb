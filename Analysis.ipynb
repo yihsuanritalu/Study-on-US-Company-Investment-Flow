{
 "cells": [
  {
   "cell_type": "code",
   "execution_count": 1,
   "metadata": {
    "collapsed": true
   },
   "outputs": [],
   "source": [
    "from bs4 import BeautifulSoup\n",
    "import requests\n",
    "import sys\n",
    "import pandas as pd\n",
    "import numpy as np\n",
    "from sqlalchemy import create_engine\n",
    "import datetime as datetime\n",
    "import json\n",
    "from dateutil import relativedelta\n",
    "import webbrowser\n",
    "import glob\n",
    "import os\n",
    "import time\n",
    "#us-gaap items:'http://www.xbrlsite.com/LinkedData/BrowseObjectsByType_HTML.aspx?Type=%5BConcept%5D&Submit=Submit'\n",
    "#other python code: https://github.com/lukerosiak/pysec\n",
    "#FASB US GAAP Taxonomy:https://www.fasb.org/cs/ContentServer?c=Page&cid=1176169699514&d=&pagename=FASB%2FPage%2FSectionPage"
   ]
  },
  {
   "cell_type": "markdown",
   "metadata": {},
   "source": [
    "## Analysis"
   ]
  },
  {
   "cell_type": "code",
   "execution_count": 2,
   "metadata": {
    "collapsed": true
   },
   "outputs": [],
   "source": [
    "engine = create_engine('sqlite:///Corp_Financials_Cash.db')\n",
    "###############\n",
    "#Access list of tables in db\n",
    "#pd.read_sql('SELECT * FROM sqlite_master',engine)\n",
    "##############\n",
    "df = pd.read_sql('SELECT * FROM sp_500_tables', engine)\n",
    "df.drop_duplicates(inplace = True)"
   ]
  },
  {
   "cell_type": "code",
   "execution_count": 3,
   "metadata": {
    "collapsed": true
   },
   "outputs": [],
   "source": [
    "sp_500 = pd.read_sql('SELECT * FROM sp_500', engine)\n",
    "sp_500.drop_duplicates(subset = ['CIK'],inplace = True)"
   ]
  },
  {
   "cell_type": "code",
   "execution_count": 4,
   "metadata": {
    "collapsed": true
   },
   "outputs": [],
   "source": [
    "df['CIK'] = df['CIK'].astype('int')"
   ]
  },
  {
   "cell_type": "code",
   "execution_count": 5,
   "metadata": {
    "collapsed": true
   },
   "outputs": [],
   "source": [
    "df = sp_500[['GICS Sector','CIK','Ticker symbol']].merge(df, on = ['CIK'], how = 'right')"
   ]
  },
  {
   "cell_type": "code",
   "execution_count": 6,
   "metadata": {
    "collapsed": true
   },
   "outputs": [],
   "source": [
    "#################\n",
    "# Change CutDate dtype to datetime\n",
    "#################\n",
    "df['CutDate'] = df.CutDate.apply(lambda x: datetime.datetime.strptime(x, '%Y-%m-%d') if x != '' else x)"
   ]
  },
  {
   "cell_type": "code",
   "execution_count": 7,
   "metadata": {
    "collapsed": true
   },
   "outputs": [],
   "source": [
    "#################\n",
    "# Wrangle reporting_period to convert bytesarray to integers.\n",
    "#################\n",
    "\n",
    "convert_date = {'\\x00\\x00\\x00\\x00\\x00\\x00\\x00\\x00':'0','\\x03\\x00\\x00\\x00\\x00\\x00\\x00\\x00':'3','\\x06\\x00\\x00\\x00\\x00\\x00\\x00\\x00':'6',\\\n",
    "               '\\x0c\\x00\\x00\\x00\\x00\\x00\\x00\\x00':'12','\\x07\\x00\\x00\\x00\\x00\\x00\\x00\\x00':'6','\\t\\x00\\x00\\x00\\x00\\x00\\x00\\x00':'9',\\\n",
    "               '\\x04\\x00\\x00\\x00\\x00\\x00\\x00\\x00':'3','\\x01\\x00\\x00\\x00\\x00\\x00\\x00\\x00':'1',')\\x00\\x00\\x00\\x00\\x00\\x00\\x00':'100',\\\n",
    "               '\\n\\x00\\x00\\x00\\x00\\x00\\x00\\x00':'9','\\x05\\x00\\x00\\x00\\x00\\x00\\x00\\x00':'5'}\n",
    "normalized = {7:6,4:3,10:9}\n",
    "df['reporting_period'] = df.reporting_period.apply(lambda x: convert_date[x.decode()] if type(x) == bytes else x)\n",
    "df['reporting_period'] = df.reporting_period.apply(lambda x: int(x) if x != '' else x)\n",
    "df['reporting_period'] = df.reporting_period.apply(lambda x: normalized[x] if x in normalized else x)"
   ]
  },
  {
   "cell_type": "code",
   "execution_count": 8,
   "metadata": {
    "collapsed": true
   },
   "outputs": [],
   "source": [
    "def period_comparison(df, table_name_list,item, member = False, period = 'min', convert_float = True):\n",
    "    ##########################\n",
    "    # This function will return values comparison of the interested item across different reporting period.\n",
    "    # member: True or False - False will only consider Date_Only member value\n",
    "    # period: 'min' or 'max' - min or max of reporting periods, e.g. single quarter or YTD\n",
    "    #convert_float: True or False - convert values to float or not\n",
    "    #depth always pick the smallest value\n",
    "    #contextref with the smallest length - if duplicated values still exist after all above\n",
    "    #########################\n",
    "    df_table = df.loc[df['table_name'].str.contains('|'.join(table_name_list)),:]\n",
    "    df_table = df_table[df_table['us-gaap'] == item.lower()]\n",
    "    \n",
    "    df_table['contextref_len'] = df_table['contextref'].apply(lambda x: len(x))\n",
    "    #groupby adds value to prevent leaving out certain items with the same member items\n",
    "    #df_table = df_table.groupby(by = ['CIK','CutDate','us-gaap','reporting_period','member','value'])\\\n",
    "    #.agg({'contextref_len':'min','depth':'min','decimals':'max'}).reset_index().merge(df_table, on = ['CIK','CutDate','reporting_period','us-gaap','contextref_len','depth','decimals','member','value'], how = 'left')\n",
    "    #\n",
    "    df_table = df_table.groupby(by = ['CIK','CutDate','us-gaap','reporting_period','member'])\\\n",
    "    .agg({'contextref_len':'min','depth':'min','decimals':'max'}).reset_index().merge(df_table, on = ['CIK','CutDate','reporting_period','us-gaap','contextref_len','depth','decimals','member'], how = 'left')\n",
    "\n",
    "    if member == False:\n",
    "        df_table = df_table[df_table.member == 'Date_Only']\n",
    "        \n",
    "    #df_main = df_table.groupby(['CIK','reporting_period','member','value']).agg({'CutDate':['max','min']}).reset_index()\n",
    "    #df_main.columns = ['CIK','reporting_period','member','value','this_period','last_period']\n",
    "    #\n",
    "    df_main = df_table.groupby(['CIK','reporting_period','member']).agg({'CutDate':['max','min']}).reset_index()\n",
    "    df_main.columns = ['CIK','reporting_period','member','this_period','last_period']    \n",
    "    \n",
    "    if period == 'min':\n",
    "        #df_main = df_main.groupby(by = ['CIK','member','value'])['reporting_period'].min().reset_index().merge(df_main, on = ['CIK','reporting_period','member'], how = 'left')\n",
    "        df_main = df_main.groupby(by = ['CIK','member'])['reporting_period'].min().reset_index().merge(df_main, on = ['CIK','reporting_period','member'], how = 'left')\n",
    "    if period == 'max':\n",
    "        #df_main = df_main.groupby(by = ['CIK','member','value'])['reporting_period'].max().reset_index().merge(df_main, on = ['CIK','reporting_period','member'], how = 'left')\n",
    "        df_main = df_main.groupby(by = ['CIK','member'])['reporting_period'].max().reset_index().merge(df_main, on = ['CIK','reporting_period','member'], how = 'left')\n",
    "    \n",
    "    #df_main = df_main.merge(df_table[['CIK','GICS Sector','value','reporting_period','CutDate','member']],\\\n",
    "    #            left_on = ['CIK','reporting_period','member','this_period','value'], right_on = ['CIK','reporting_period','member','CutDate','value'], how = 'left')\\\n",
    "    #.merge(df_table[['CIK','value','reporting_period','CutDate','member']], \\\n",
    "    #       left_on = ['CIK','reporting_period','member','last_period'], right_on = ['CIK','reporting_period','member','CutDate'], how = 'left')\\\n",
    "    #.rename(columns = {'value_x': 'value_this_period','value_y':'value_last_period'})\\\n",
    "    #.drop(['CutDate_x','CutDate_y'], axis = 1)\n",
    "\n",
    "    df_main = df_main.merge(df_table[['CIK','GICS Sector','value','reporting_period','CutDate','member']],\\\n",
    "                left_on = ['CIK','reporting_period','member','this_period'], right_on = ['CIK','reporting_period','member','CutDate'], how = 'left')\\\n",
    "    .merge(df_table[['CIK','value','reporting_period','CutDate','member']], \\\n",
    "           left_on = ['CIK','reporting_period','member','last_period'], right_on = ['CIK','reporting_period','member','CutDate'], how = 'left')\\\n",
    "    .rename(columns = {'value_x': 'value_this_period','value_y':'value_last_period'})\\\n",
    "    .drop(['CutDate_x','CutDate_y'], axis = 1)\n",
    "    \n",
    "    \n",
    "    if convert_float == True:\n",
    "        df_main['value_this_period'] = df_main['value_this_period'].astype('float')\n",
    "        df_main['value_last_period'] = df_main['value_last_period'].astype('float')\n",
    "        df_main['value_diff'] = df_main['value_this_period'] - df_main['value_last_period']\n",
    "    df_main.drop_duplicates(inplace = True)\n",
    "        \n",
    "    return df_main"
   ]
  },
  {
   "cell_type": "markdown",
   "metadata": {},
   "source": [
    "## Cash & Investment"
   ]
  },
  {
   "cell_type": "code",
   "execution_count": null,
   "metadata": {
    "collapsed": true
   },
   "outputs": [],
   "source": [
    "#############\n",
    "#Extract cash items from 330000 - investment disclosure & 333000 Equity method investment\n",
    "############\n",
    "# 330000 table\n",
    "mapping_cash = pd.ExcelFile('Mapping.xls').parse('330000')\n",
    "\n",
    "mapped = pd.DataFrame(columns = ['CIK', 'member', 'reporting_period', 'this_period', 'last_period',\\\n",
    "                        'GICS Sector', 'value_this_period', 'value_last_period', 'value_diff','us-gaap'])\n",
    "mapping_item = mapping_cash['us-gaap']\n",
    "for i in mapping_item:\n",
    "    mapped_i = period_comparison(df,['330000'],i, member = True)\n",
    "    mapped_i['us-gaap'] = np.repeat(i,len(mapped_i.index))\n",
    "    mapped = pd.concat([mapped,mapped_i], ignore_index = True)\n",
    "\n",
    "# 333000 table\n",
    "new_df = pd.DataFrame(columns = ['CIK'], data = list(set(mapped['CIK']))).merge(df, on = ['CIK'], how = 'inner')\n",
    "mapping_cash = pd.ExcelFile('Mapping.xls').parse('333000')\n",
    "mapping_item = mapping_cash['us-gaap']\n",
    "for i in mapping_item:\n",
    "    try:\n",
    "        mapped_i = period_comparison(new_df,['333000'],i, member = True)\n",
    "        mapped_i['us-gaap'] = np.repeat(i,len(mapped_i.index))\n",
    "        mapped = pd.concat([mapped,mapped_i], ignore_index = True)\n",
    "    except:\n",
    "        #print(i)\n",
    "        continue\n",
    "mapped = mapped.loc[mapped['member'].str.contains('fair value', case = False, na = False) == False,:]\n",
    "#mapped['value_this_period'] = mapped['value_this_period'].apply(lambda x: x/1000000)\n",
    "#mapped['value_last_period'] = mapped['value_last_period'].apply(lambda x: x/1000000)\n",
    "#mapped['value_diff'] = mapped['value_diff'].apply(lambda x: x/1000000)"
   ]
  },
  {
   "cell_type": "code",
   "execution_count": 10,
   "metadata": {
    "collapsed": true
   },
   "outputs": [],
   "source": [
    "##################\n",
    "# Find companies left out of 330000\n",
    "##################\n",
    "no_investment = []\n",
    "for i in list(set(df['CIK'])):\n",
    "    if i not in list(set(mapped['CIK'])):\n",
    "        no_investment.append(i)\n",
    "c = pd.DataFrame(columns = ['CIK'], data = no_investment).merge(df, on = ['CIK'], how = 'inner')"
   ]
  },
  {
   "cell_type": "code",
   "execution_count": null,
   "metadata": {
    "collapsed": true
   },
   "outputs": [],
   "source": [
    "##################\n",
    "# Extract cash items from 815000 - Fair value disclosure for the remaining companies\n",
    "##################\n",
    "mapping_cash = pd.ExcelFile('Mapping.xls').parse('815000')\n",
    "\n",
    "mapping_item = mapping_cash['us-gaap']\n",
    "for i in mapping_item:\n",
    "    try:\n",
    "        mapped_i = period_comparison(c,['815000'],i, member = True)\n",
    "        mapped_i['us-gaap'] = np.repeat(i,len(mapped_i.index))\n",
    "        mapped = pd.concat([mapped,mapped_i], ignore_index = True)\n",
    "    except:\n",
    "        #print(i)\n",
    "        continue\n",
    "mapped = mapped.loc[mapped['member'].str.contains('fair value', case = False, na = False) == False,:]\n",
    "mapped['value_this_period'] = mapped['value_this_period'].apply(lambda x: x/1000000)\n",
    "mapped['value_last_period'] = mapped['value_last_period'].apply(lambda x: x/1000000)\n",
    "mapped['value_diff'] = mapped['value_diff'].apply(lambda x: x/1000000)"
   ]
  },
  {
   "cell_type": "code",
   "execution_count": 12,
   "metadata": {
    "collapsed": true
   },
   "outputs": [],
   "source": [
    "##################\n",
    "# Find companies left out of both 330000 & 815000\n",
    "##################\n",
    "no_investment = []\n",
    "for i in list(set(df['CIK'])):\n",
    "    if i not in list(set(mapped['CIK'])):\n",
    "        no_investment.append(i)\n",
    "c = pd.DataFrame(columns = ['CIK'], data = no_investment).merge(df, on = ['CIK'], how = 'inner')"
   ]
  },
  {
   "cell_type": "code",
   "execution_count": 13,
   "metadata": {},
   "outputs": [
    {
     "name": "stderr",
     "output_type": "stream",
     "text": [
      "C:\\ProgramData\\Anaconda3\\lib\\site-packages\\pandas\\core\\reshape\\merge.py:1457: RuntimeWarning: divide by zero encountered in longlong_scalars\n",
      "  stride //= shape[i]\n"
     ]
    }
   ],
   "source": [
    "############\n",
    "#Aggregate balance sheet cash items of the rest of the companies without investment or fair value disclosure\n",
    "############\n",
    "\n",
    "\n",
    "cash_item = pd.ExcelFile('Mapping.xls').parse('104000')['us-gaap']\n",
    "\n",
    "total_cash = pd.DataFrame(columns = ['CIK', 'member', 'reporting_period', 'this_period', 'last_period',\\\n",
    "                        'GICS Sector', 'value_this_period', 'value_last_period', 'value_diff','us-gaap'])\n",
    "for i in cash_item:\n",
    "    cash = period_comparison(c,['104000'],i, member = False)\n",
    "    cash['us-gaap'] = np.repeat(i, len(cash.index))\n",
    "    total_cash = pd.concat([total_cash, cash], ignore_index = True)\n",
    "total_cash['value_this_period'] = total_cash['value_this_period'].apply(lambda x:x/1000000)\n",
    "total_cash['value_last_period'] = total_cash['value_last_period'].apply(lambda x: x/1000000)\n",
    "total_cash['value_diff'] = total_cash['value_diff'].apply(lambda x: x/1000000)\n",
    "#total_cash.groupby(['CIK'])['value_this_period'].sum().reset_index().sort_values(by = ['value_this_period'], ascending  = False)"
   ]
  },
  {
   "cell_type": "code",
   "execution_count": 14,
   "metadata": {
    "collapsed": true
   },
   "outputs": [],
   "source": [
    "mapped = pd.concat([mapped, total_cash], ignore_index = True)"
   ]
  },
  {
   "cell_type": "code",
   "execution_count": null,
   "metadata": {
    "collapsed": true
   },
   "outputs": [],
   "source": [
    "###########\n",
    "# Companies left out of cash & investment analysis due to failue to extract cash and investment items from xbrl\n",
    "##########\n",
    "no_investment = []\n",
    "for i in list(set(df['CIK'])):\n",
    "    if i not in list(set(mapped['CIK'])):\n",
    "        no_investment.append(i)\n",
    "c = pd.DataFrame(columns = ['CIK'], data = no_investment).merge(df, on = ['CIK'], how = 'inner')\n",
    "set(c['CIK'])"
   ]
  },
  {
   "cell_type": "markdown",
   "metadata": {},
   "source": [
    "### Total Cash"
   ]
  },
  {
   "cell_type": "code",
   "execution_count": 15,
   "metadata": {
    "collapsed": true
   },
   "outputs": [],
   "source": [
    "strategic_invest = {'us-gaap:equitymethodinvestments':'Equity Method',\\\n",
    " 'us-gaap:investmentsinaffiliatessubsidiariesassociatesandjointventures':'Equity Method',\\\n",
    "'us-gaap:equitysecuritieswithoutreadilydeterminablefairvalueamount':'Cost Method',\\\n",
    "'us-gaap:costmethodinvestmentsaggregatecarryingamountnotevaluatedforimpairment':'Cost Method',\\\n",
    "'us-gaap:costmethodinvestments':'Cost Method',\\\n",
    "'us-gaap:costmethodinvestmentsfairvaluedisclosure':'Cost Method'}\n"
   ]
  },
  {
   "cell_type": "code",
   "execution_count": 16,
   "metadata": {
    "collapsed": true
   },
   "outputs": [],
   "source": [
    "#############\n",
    "#Aggregate total investment\n",
    "##320193/1018724/1652044/789019/50863/1326801/858877\n",
    "############\n",
    "#https://pandas.pydata.org/pandas-docs/stable/generated/pandas.core.groupby.GroupBy.apply.html\n",
    "total_cash_agg = mapped.groupby(by = ['CIK','GICS Sector','us-gaap']).apply(lambda x: sum(x.value_this_period*['Date_Only' in i for i in x.member]) \\\n",
    "                                             if sum(['Date_Only' in i for i in x.member]) > 0\\\n",
    "                                                 else sum(x.value_this_period)).reset_index()\n",
    "\n",
    "total_cash = pd.ExcelFile('Mapping.xls').parse('total_cash')\n",
    "total_cash = total_cash[total_cash.inclusion == 'V']\n",
    "total_cash = total_cash.merge(total_cash_agg,on = ['CIK','us-gaap'], how = 'left').rename(columns = {0:'value'})\n",
    "total_cash['Cat'] = total_cash['us-gaap'].apply(lambda x: strategic_invest[x] if x in strategic_invest else 'investment')"
   ]
  },
  {
   "cell_type": "code",
   "execution_count": 27,
   "metadata": {},
   "outputs": [
    {
     "data": {
      "text/html": [
       "<div>\n",
       "<style>\n",
       "    .dataframe thead tr:only-child th {\n",
       "        text-align: right;\n",
       "    }\n",
       "\n",
       "    .dataframe thead th {\n",
       "        text-align: left;\n",
       "    }\n",
       "\n",
       "    .dataframe tbody tr th {\n",
       "        vertical-align: top;\n",
       "    }\n",
       "</style>\n",
       "<table border=\"1\" class=\"dataframe\">\n",
       "  <thead>\n",
       "    <tr style=\"text-align: right;\">\n",
       "      <th></th>\n",
       "      <th>Cat</th>\n",
       "      <th>value</th>\n",
       "    </tr>\n",
       "  </thead>\n",
       "  <tbody>\n",
       "    <tr>\n",
       "      <th>0</th>\n",
       "      <td>Cost Method</td>\n",
       "      <td>12160.712</td>\n",
       "    </tr>\n",
       "    <tr>\n",
       "      <th>1</th>\n",
       "      <td>Equity Method</td>\n",
       "      <td>157542.893</td>\n",
       "    </tr>\n",
       "    <tr>\n",
       "      <th>2</th>\n",
       "      <td>investment</td>\n",
       "      <td>1482870.614</td>\n",
       "    </tr>\n",
       "  </tbody>\n",
       "</table>\n",
       "</div>"
      ],
      "text/plain": [
       "             Cat        value\n",
       "0    Cost Method    12160.712\n",
       "1  Equity Method   157542.893\n",
       "2     investment  1482870.614"
      ]
     },
     "execution_count": 27,
     "metadata": {},
     "output_type": "execute_result"
    }
   ],
   "source": [
    "total_cash.groupby(['Cat'])['value'].sum().reset_index()"
   ]
  },
  {
   "cell_type": "code",
   "execution_count": 17,
   "metadata": {
    "scrolled": true
   },
   "outputs": [
    {
     "data": {
      "text/html": [
       "<div>\n",
       "<style>\n",
       "    .dataframe thead tr:only-child th {\n",
       "        text-align: right;\n",
       "    }\n",
       "\n",
       "    .dataframe thead th {\n",
       "        text-align: left;\n",
       "    }\n",
       "\n",
       "    .dataframe tbody tr th {\n",
       "        vertical-align: top;\n",
       "    }\n",
       "</style>\n",
       "<table border=\"1\" class=\"dataframe\">\n",
       "  <thead>\n",
       "    <tr style=\"text-align: right;\">\n",
       "      <th></th>\n",
       "      <th>CIK</th>\n",
       "      <th>GICS Sector</th>\n",
       "      <th>value</th>\n",
       "      <th>Security</th>\n",
       "    </tr>\n",
       "  </thead>\n",
       "  <tbody>\n",
       "    <tr>\n",
       "      <th>0</th>\n",
       "      <td>320193</td>\n",
       "      <td>Information Technology</td>\n",
       "      <td>243743.0</td>\n",
       "      <td>Apple Inc.</td>\n",
       "    </tr>\n",
       "    <tr>\n",
       "      <th>1</th>\n",
       "      <td>789019</td>\n",
       "      <td>Information Technology</td>\n",
       "      <td>135630.0</td>\n",
       "      <td>Microsoft Corp.</td>\n",
       "    </tr>\n",
       "    <tr>\n",
       "      <th>2</th>\n",
       "      <td>1652044</td>\n",
       "      <td>Information Technology</td>\n",
       "      <td>100611.0</td>\n",
       "      <td>Alphabet Inc Class A</td>\n",
       "    </tr>\n",
       "    <tr>\n",
       "      <th>3</th>\n",
       "      <td>1341439</td>\n",
       "      <td>Information Technology</td>\n",
       "      <td>45641.0</td>\n",
       "      <td>Oracle Corp.</td>\n",
       "    </tr>\n",
       "    <tr>\n",
       "      <th>4</th>\n",
       "      <td>882095</td>\n",
       "      <td>Health Care</td>\n",
       "      <td>45067.0</td>\n",
       "      <td>Gilead Sciences</td>\n",
       "    </tr>\n",
       "    <tr>\n",
       "      <th>5</th>\n",
       "      <td>64803</td>\n",
       "      <td>Consumer Staples</td>\n",
       "      <td>43911.0</td>\n",
       "      <td>CVS Health</td>\n",
       "    </tr>\n",
       "    <tr>\n",
       "      <th>6</th>\n",
       "      <td>1109357</td>\n",
       "      <td>Utilities</td>\n",
       "      <td>39990.0</td>\n",
       "      <td>Exelon Corp.</td>\n",
       "    </tr>\n",
       "    <tr>\n",
       "      <th>7</th>\n",
       "      <td>858877</td>\n",
       "      <td>Information Technology</td>\n",
       "      <td>38710.0</td>\n",
       "      <td>Cisco Systems</td>\n",
       "    </tr>\n",
       "    <tr>\n",
       "      <th>8</th>\n",
       "      <td>40545</td>\n",
       "      <td>Industrials</td>\n",
       "      <td>37205.0</td>\n",
       "      <td>General Electric</td>\n",
       "    </tr>\n",
       "    <tr>\n",
       "      <th>9</th>\n",
       "      <td>731766</td>\n",
       "      <td>Health Care</td>\n",
       "      <td>34216.0</td>\n",
       "      <td>United Health Group Inc.</td>\n",
       "    </tr>\n",
       "    <tr>\n",
       "      <th>10</th>\n",
       "      <td>1122304</td>\n",
       "      <td>Health Care</td>\n",
       "      <td>32454.0</td>\n",
       "      <td>Aetna Inc</td>\n",
       "    </tr>\n",
       "    <tr>\n",
       "      <th>11</th>\n",
       "      <td>1326801</td>\n",
       "      <td>Information Technology</td>\n",
       "      <td>30757.0</td>\n",
       "      <td>Facebook, Inc.</td>\n",
       "    </tr>\n",
       "    <tr>\n",
       "      <th>12</th>\n",
       "      <td>318154</td>\n",
       "      <td>Health Care</td>\n",
       "      <td>29036.0</td>\n",
       "      <td>Amgen Inc.</td>\n",
       "    </tr>\n",
       "    <tr>\n",
       "      <th>13</th>\n",
       "      <td>21344</td>\n",
       "      <td>Consumer Staples</td>\n",
       "      <td>27310.0</td>\n",
       "      <td>Coca-Cola Company (The)</td>\n",
       "    </tr>\n",
       "    <tr>\n",
       "      <th>14</th>\n",
       "      <td>1018724</td>\n",
       "      <td>Consumer Discretionary</td>\n",
       "      <td>26743.0</td>\n",
       "      <td>Amazon.com Inc.</td>\n",
       "    </tr>\n",
       "    <tr>\n",
       "      <th>15</th>\n",
       "      <td>701221</td>\n",
       "      <td>Health Care</td>\n",
       "      <td>24153.0</td>\n",
       "      <td>CIGNA Corp.</td>\n",
       "    </tr>\n",
       "    <tr>\n",
       "      <th>16</th>\n",
       "      <td>8670</td>\n",
       "      <td>Information Technology</td>\n",
       "      <td>22776.2</td>\n",
       "      <td>Automatic Data Processing</td>\n",
       "    </tr>\n",
       "    <tr>\n",
       "      <th>17</th>\n",
       "      <td>764180</td>\n",
       "      <td>Consumer Staples</td>\n",
       "      <td>19701.0</td>\n",
       "      <td>Altria Group Inc</td>\n",
       "    </tr>\n",
       "    <tr>\n",
       "      <th>18</th>\n",
       "      <td>1467858</td>\n",
       "      <td>Consumer Discretionary</td>\n",
       "      <td>18212.0</td>\n",
       "      <td>General Motors</td>\n",
       "    </tr>\n",
       "    <tr>\n",
       "      <th>19</th>\n",
       "      <td>1156039</td>\n",
       "      <td>Health Care</td>\n",
       "      <td>17569.1</td>\n",
       "      <td>Anthem Inc.</td>\n",
       "    </tr>\n",
       "  </tbody>\n",
       "</table>\n",
       "</div>"
      ],
      "text/plain": [
       "        CIK             GICS Sector     value                   Security\n",
       "0    320193  Information Technology  243743.0                 Apple Inc.\n",
       "1    789019  Information Technology  135630.0            Microsoft Corp.\n",
       "2   1652044  Information Technology  100611.0       Alphabet Inc Class A\n",
       "3   1341439  Information Technology   45641.0               Oracle Corp.\n",
       "4    882095             Health Care   45067.0            Gilead Sciences\n",
       "5     64803        Consumer Staples   43911.0                 CVS Health\n",
       "6   1109357               Utilities   39990.0               Exelon Corp.\n",
       "7    858877  Information Technology   38710.0              Cisco Systems\n",
       "8     40545             Industrials   37205.0           General Electric\n",
       "9    731766             Health Care   34216.0   United Health Group Inc.\n",
       "10  1122304             Health Care   32454.0                  Aetna Inc\n",
       "11  1326801  Information Technology   30757.0             Facebook, Inc.\n",
       "12   318154             Health Care   29036.0                 Amgen Inc.\n",
       "13    21344        Consumer Staples   27310.0    Coca-Cola Company (The)\n",
       "14  1018724  Consumer Discretionary   26743.0            Amazon.com Inc.\n",
       "15   701221             Health Care   24153.0                CIGNA Corp.\n",
       "16     8670  Information Technology   22776.2  Automatic Data Processing\n",
       "17   764180        Consumer Staples   19701.0           Altria Group Inc\n",
       "18  1467858  Consumer Discretionary   18212.0             General Motors\n",
       "19  1156039             Health Care   17569.1                Anthem Inc."
      ]
     },
     "execution_count": 17,
     "metadata": {},
     "output_type": "execute_result"
    }
   ],
   "source": [
    "############\n",
    "#Rank of total investment\n",
    "###########\n",
    "agg = total_cash.groupby(by = ['CIK','GICS Sector'])['value'].sum().reset_index().sort_values(by = ['value'],ascending = False)\\\n",
    ".merge(sp_500[['CIK','Security']], on = ['CIK'], how = 'left')\n",
    "agg.head(20)\n"
   ]
  },
  {
   "cell_type": "code",
   "execution_count": null,
   "metadata": {
    "collapsed": true
   },
   "outputs": [],
   "source": [
    "##########\n",
    "#Top 20 shares of total corporate investment in this study\n",
    "##########\n",
    "agg.head(20)['value'].sum()/agg['value'].sum()"
   ]
  },
  {
   "cell_type": "markdown",
   "metadata": {},
   "source": [
    "### Investment Composition"
   ]
  },
  {
   "cell_type": "code",
   "execution_count": 18,
   "metadata": {
    "collapsed": true
   },
   "outputs": [],
   "source": [
    "#################\n",
    "#Investment Compositions\n",
    "#################\n",
    "\n",
    "member_only = mapped[(mapped['member'] != 'Date_Only')].loc[mapped['this_period'] != mapped['last_period']]\n",
    "member_list = pd.ExcelFile('Mapping.xls').parse('member')\n",
    "cash_item = pd.ExcelFile('Mapping.xls').parse('total_cash')\n",
    "cash_item = cash_item[cash_item['inclusion'] == 'V']\n",
    "##############\n",
    "#import cash mapping table, merge with member only and total cash(to gauge significance)\n",
    "##############\n",
    "investment = cash_item\\\n",
    ".merge(member_only ,on = ['CIK','us-gaap'], how = 'left')\\\n",
    ".merge(member_list, on = ['member'], how = 'left')\n",
    "\n",
    "investment = investment[investment['Cat'].isnull() == False]"
   ]
  },
  {
   "cell_type": "code",
   "execution_count": 24,
   "metadata": {
    "scrolled": false
   },
   "outputs": [
    {
     "data": {
      "text/html": [
       "<div>\n",
       "<style>\n",
       "    .dataframe thead tr:only-child th {\n",
       "        text-align: right;\n",
       "    }\n",
       "\n",
       "    .dataframe thead th {\n",
       "        text-align: left;\n",
       "    }\n",
       "\n",
       "    .dataframe tbody tr th {\n",
       "        vertical-align: top;\n",
       "    }\n",
       "</style>\n",
       "<table border=\"1\" class=\"dataframe\">\n",
       "  <thead>\n",
       "    <tr style=\"text-align: right;\">\n",
       "      <th></th>\n",
       "      <th>Cat</th>\n",
       "      <th>value_this_period</th>\n",
       "      <th>value_last_period</th>\n",
       "      <th>value_diff</th>\n",
       "    </tr>\n",
       "  </thead>\n",
       "  <tbody>\n",
       "    <tr>\n",
       "      <th>4</th>\n",
       "      <td>Cash</td>\n",
       "      <td>61140.532</td>\n",
       "      <td>53743.889</td>\n",
       "      <td>7396.643</td>\n",
       "    </tr>\n",
       "    <tr>\n",
       "      <th>3</th>\n",
       "      <td>CP</td>\n",
       "      <td>14381.610</td>\n",
       "      <td>8770.520</td>\n",
       "      <td>5611.090</td>\n",
       "    </tr>\n",
       "    <tr>\n",
       "      <th>14</th>\n",
       "      <td>MMF</td>\n",
       "      <td>42597.733</td>\n",
       "      <td>37591.735</td>\n",
       "      <td>5005.998</td>\n",
       "    </tr>\n",
       "    <tr>\n",
       "      <th>15</th>\n",
       "      <td>Other</td>\n",
       "      <td>58849.355</td>\n",
       "      <td>54729.850</td>\n",
       "      <td>4119.505</td>\n",
       "    </tr>\n",
       "    <tr>\n",
       "      <th>12</th>\n",
       "      <td>MBS</td>\n",
       "      <td>15269.454</td>\n",
       "      <td>14885.212</td>\n",
       "      <td>384.242</td>\n",
       "    </tr>\n",
       "    <tr>\n",
       "      <th>2</th>\n",
       "      <td>CMBS</td>\n",
       "      <td>1604.689</td>\n",
       "      <td>1610.570</td>\n",
       "      <td>-5.881</td>\n",
       "    </tr>\n",
       "    <tr>\n",
       "      <th>11</th>\n",
       "      <td>GOV &amp; Corp</td>\n",
       "      <td>104.498</td>\n",
       "      <td>184.452</td>\n",
       "      <td>-79.954</td>\n",
       "    </tr>\n",
       "    <tr>\n",
       "      <th>1</th>\n",
       "      <td>Agency</td>\n",
       "      <td>418.155</td>\n",
       "      <td>524.698</td>\n",
       "      <td>-106.543</td>\n",
       "    </tr>\n",
       "    <tr>\n",
       "      <th>7</th>\n",
       "      <td>Foerign Securities</td>\n",
       "      <td>145.000</td>\n",
       "      <td>277.000</td>\n",
       "      <td>-132.000</td>\n",
       "    </tr>\n",
       "    <tr>\n",
       "      <th>8</th>\n",
       "      <td>Foreign Corp</td>\n",
       "      <td>3211.100</td>\n",
       "      <td>3541.900</td>\n",
       "      <td>-330.800</td>\n",
       "    </tr>\n",
       "    <tr>\n",
       "      <th>13</th>\n",
       "      <td>MBS &amp; ABS</td>\n",
       "      <td>18268.000</td>\n",
       "      <td>21323.400</td>\n",
       "      <td>-3055.400</td>\n",
       "    </tr>\n",
       "    <tr>\n",
       "      <th>6</th>\n",
       "      <td>Equity</td>\n",
       "      <td>20477.456</td>\n",
       "      <td>25756.877</td>\n",
       "      <td>-5279.421</td>\n",
       "    </tr>\n",
       "    <tr>\n",
       "      <th>9</th>\n",
       "      <td>Foreign GOV</td>\n",
       "      <td>34672.292</td>\n",
       "      <td>40333.245</td>\n",
       "      <td>-5660.953</td>\n",
       "    </tr>\n",
       "    <tr>\n",
       "      <th>0</th>\n",
       "      <td>ABS</td>\n",
       "      <td>38690.526</td>\n",
       "      <td>45274.552</td>\n",
       "      <td>-6584.026</td>\n",
       "    </tr>\n",
       "    <tr>\n",
       "      <th>10</th>\n",
       "      <td>GOV</td>\n",
       "      <td>314675.187</td>\n",
       "      <td>355821.191</td>\n",
       "      <td>-41146.004</td>\n",
       "    </tr>\n",
       "    <tr>\n",
       "      <th>5</th>\n",
       "      <td>Corp</td>\n",
       "      <td>351378.532</td>\n",
       "      <td>399929.413</td>\n",
       "      <td>-48550.881</td>\n",
       "    </tr>\n",
       "  </tbody>\n",
       "</table>\n",
       "</div>"
      ],
      "text/plain": [
       "                   Cat  value_this_period  value_last_period  value_diff\n",
       "4                 Cash          61140.532          53743.889    7396.643\n",
       "3                   CP          14381.610           8770.520    5611.090\n",
       "14                 MMF          42597.733          37591.735    5005.998\n",
       "15               Other          58849.355          54729.850    4119.505\n",
       "12                 MBS          15269.454          14885.212     384.242\n",
       "2                 CMBS           1604.689           1610.570      -5.881\n",
       "11          GOV & Corp            104.498            184.452     -79.954\n",
       "1               Agency            418.155            524.698    -106.543\n",
       "7   Foerign Securities            145.000            277.000    -132.000\n",
       "8         Foreign Corp           3211.100           3541.900    -330.800\n",
       "13           MBS & ABS          18268.000          21323.400   -3055.400\n",
       "6               Equity          20477.456          25756.877   -5279.421\n",
       "9          Foreign GOV          34672.292          40333.245   -5660.953\n",
       "0                  ABS          38690.526          45274.552   -6584.026\n",
       "10                 GOV         314675.187         355821.191  -41146.004\n",
       "5                 Corp         351378.532         399929.413  -48550.881"
      ]
     },
     "execution_count": 24,
     "metadata": {},
     "output_type": "execute_result"
    }
   ],
   "source": [
    "investment.groupby(['Cat']).agg({'value_this_period':'sum','value_last_period':'sum','value_diff':'sum'}).reset_index()\\\n",
    ".sort_values(by = ['value_diff'], ascending = False)"
   ]
  },
  {
   "cell_type": "markdown",
   "metadata": {},
   "source": [
    "## Cash Flow Item"
   ]
  },
  {
   "cell_type": "markdown",
   "metadata": {},
   "source": [
    "### Purchases and Sales of Securities"
   ]
  },
  {
   "cell_type": "code",
   "execution_count": 19,
   "metadata": {
    "collapsed": true
   },
   "outputs": [],
   "source": [
    "ps = []\n",
    "for i in ['PaymentsToAcquireAvailableForSaleSecuritiesDebt',\\\n",
    "'PaymentsToAcquireHeldToMaturitySecurities',\\\n",
    "'PaymentsToAcquireMarketableSecurities',\\\n",
    "'ProceedsFromSaleOfAvailableForSaleSecuritiesDebt',\\\n",
    "'ProceedsFromMaturitiesPrepaymentsAndCallsOfAvailableForSaleSecurities',\\\n",
    "'ProceedsFromSaleAndMaturityOfAvailableForSaleSecurities',\\\n",
    "'ProceedsFromSaleOfHeldToMaturitySecurities',\\\n",
    "'ProceedsFromMaturitiesPrepaymentsAndCallsOfHeldToMaturitySecurities',\\\n",
    "'ProceedsFromSaleAndMaturityOfHeldToMaturitySecurities',\\\n",
    "'ProceedsFromSaleAndMaturityOfMarketableSecurities',\\\n",
    "'ProceedsFromSaleAndMaturityOfOtherInvestments',\\\n",
    "'ProceedsFromSaleMaturityAndCollectionsOfInvestments',\\\n",
    "'PaymentsToAcquireAvailableForSaleSecuritiesDebt',\\\n",
    "'PaymentsToAcquireAvailableForSaleSecuritiesEquity',\\\n",
    "'PaymentsToAcquireAvailableForSaleSecurities',\\\n",
    "'PaymentsToAcquireHeldToMaturitySecurities',\\\n",
    "'PaymentsToAcquireMarketableSecurities',\\\n",
    "'ProceedsFromMaturitiesPrepaymentsAndCallsOfAvailableForSaleSecurities',\\\n",
    "'ProceedsFromSaleAndMaturityOfAvailableForSaleSecurities',\\\n",
    "'ProceedsFromSaleOfHeldToMaturitySecurities',\\\n",
    "'ProceedsFromMaturitiesPrepaymentsAndCallsOfHeldToMaturitySecurities',\\\n",
    "'ProceedsFromSaleAndMaturityOfHeldToMaturitySecurities',\\\n",
    "'ProceedsFromSaleAndMaturityOfMarketableSecurities',\\\n",
    "'ProceedsFromSaleAndMaturityOfOtherInvestments',\\\n",
    "'ProceedsFromSaleMaturityAndCollectionsOfInvestments',\\\n",
    "'ProceedsFromSaleOfAvailableForSaleSecuritiesDebt',\\\n",
    "'ProceedsFromSaleOfAvailableForSaleSecuritiesEquity',\\\n",
    "'ProceedsFromSaleOfAvailableForSaleSecurities',\\\n",
    "'ProceedsFromMaturitiesPrepaymentsAndCallsOfAvailableForSaleSecurities',\\\n",
    "'ProceedsFromSaleAndMaturityOfAvailableForSaleSecurities',\\\n",
    "'PaymentsToAcquireOtherInvestments',\\\n",
    "'PaymentsToAcquireInvestments',\\\n",
    "'ProceedsFromSaleOfAvailableForSaleSecurities',\\\n",
    "'PaymentsToAcquireTradingSecuritiesHeldforinvestment',\\\n",
    "'ProceedsFromSaleAndMaturityOfTradingSecuritiesHeldforinvestment']:\n",
    "    ps.append('us-gaap:' + i.lower())\n",
    "ps = list(set(ps))"
   ]
  },
  {
   "cell_type": "code",
   "execution_count": 20,
   "metadata": {
    "collapsed": true
   },
   "outputs": [],
   "source": [
    "df_ps = pd.DataFrame(columns = ['CIK', 'member', 'reporting_period', 'this_period', 'last_period',\n",
    "       'GICS Sector', 'value_this_period', 'value_last_period', 'value_diff','us-gaap'])\n",
    "for i in ps:\n",
    "    try:\n",
    "        df_c = period_comparison(df,['152200','330000'],i,period = 'max')\n",
    "        df_c['us-gaap'] = np.repeat(i, len(df_c.index))\n",
    "        if 'payment' in i[:20]:\n",
    "            df_c['value_this_period'] = df_c['value_this_period'].apply(lambda x: -x)\n",
    "            df_c['value_last_period'] = df_c['value_last_period'].apply(lambda x: -x)\n",
    "            df_c['value_diff'] = df_c['value_this_period'] - df_c['value_last_period']\n",
    "        df_ps = pd.concat([df_c,df_ps], ignore_index = True)\n",
    "    except:\n",
    "        continue\n",
    "df_ps['value_this_period'] = df_ps['value_this_period'].apply(lambda x: x/1000000)\n",
    "df_ps['value_last_period'] = df_ps['value_last_period'].apply(lambda x: x/1000000)\n",
    "df_ps['value_diff'] = df_ps['value_diff'].apply(lambda x: x/1000000)\n",
    "df_ps = df_ps.merge(pd.ExcelFile('Mapping.xls').parse('cf'), on = ['us-gaap'], how = 'left')"
   ]
  },
  {
   "cell_type": "code",
   "execution_count": null,
   "metadata": {
    "collapsed": true
   },
   "outputs": [],
   "source": [
    "\n",
    "only_investments = total_cash[total_cash.Cat == 'investment'].groupby(['CIK'])['value'].sum().reset_index()\n",
    "df_ps_agg = df_ps.groupby(['CIK','reporting_period','this_period','GICS Sector'])['value_this_period'].sum().reset_index()\n",
    "df_ps_agg = df_ps_agg.sort_values(by = ['CIK','reporting_period','this_period'], ascending = False)\\\n",
    ".drop_duplicates(subset = ['CIK'],keep = 'first')\n",
    "\n",
    "df_ps_agg = df_ps_agg.merge(only_investments,on = ['CIK'], how = 'left').rename(columns = {'value_this_period':'cash_flow','value':'investment_bal'})\n",
    "df_ps_agg['change %'] = -df_ps_agg['cash_flow']*100/(df_ps_agg['cash_flow']+df_ps_agg['investment_bal'])\n",
    "df_ps_agg['investment_bal_last_period'] = df_ps_agg['cash_flow']+df_ps_agg['investment_bal']\n",
    "df_ps_agg = df_ps_agg.sort_values(by = ['change %'])[df_ps_agg['investment_bal_last_period'] >= 0]\n",
    "df_ps_agg['valid_cash_flow'] = np.repeat('v', len(df_ps_agg.index))\n",
    "df_ps_agg.groupby(by = ['reporting_period'])['change %'].describe()\n",
    "############\n",
    "#The corporate investments exhibit net outflows of 6~14% of original investment balance regardless of reporting periods of the entities.\n",
    "############\n",
    "#df_ps_agg.groupby(by = ['reporting_period']).apply(lambda x: np.average(x['change %'], weights = x['investment_bal'])).reset_index().rename(columns = {0:'weighted_change %'})"
   ]
  },
  {
   "cell_type": "code",
   "execution_count": 111,
   "metadata": {},
   "outputs": [
    {
     "data": {
      "text/html": [
       "<div>\n",
       "<style>\n",
       "    .dataframe thead tr:only-child th {\n",
       "        text-align: right;\n",
       "    }\n",
       "\n",
       "    .dataframe thead th {\n",
       "        text-align: left;\n",
       "    }\n",
       "\n",
       "    .dataframe tbody tr th {\n",
       "        vertical-align: top;\n",
       "    }\n",
       "</style>\n",
       "<table border=\"1\" class=\"dataframe\">\n",
       "  <thead>\n",
       "    <tr style=\"text-align: right;\">\n",
       "      <th></th>\n",
       "      <th>GICS Sector</th>\n",
       "      <th>weighted_change %</th>\n",
       "    </tr>\n",
       "  </thead>\n",
       "  <tbody>\n",
       "    <tr>\n",
       "      <th>0</th>\n",
       "      <td>Consumer Discretionary</td>\n",
       "      <td>-7.628350</td>\n",
       "    </tr>\n",
       "    <tr>\n",
       "      <th>1</th>\n",
       "      <td>Consumer Staples</td>\n",
       "      <td>-35.268713</td>\n",
       "    </tr>\n",
       "    <tr>\n",
       "      <th>2</th>\n",
       "      <td>Energy</td>\n",
       "      <td>4.111967</td>\n",
       "    </tr>\n",
       "    <tr>\n",
       "      <th>3</th>\n",
       "      <td>Health Care</td>\n",
       "      <td>-8.482201</td>\n",
       "    </tr>\n",
       "    <tr>\n",
       "      <th>4</th>\n",
       "      <td>Industrials</td>\n",
       "      <td>-5.717812</td>\n",
       "    </tr>\n",
       "    <tr>\n",
       "      <th>5</th>\n",
       "      <td>Information Technology</td>\n",
       "      <td>-7.363309</td>\n",
       "    </tr>\n",
       "    <tr>\n",
       "      <th>6</th>\n",
       "      <td>Materials</td>\n",
       "      <td>-16.657373</td>\n",
       "    </tr>\n",
       "    <tr>\n",
       "      <th>7</th>\n",
       "      <td>Utilities</td>\n",
       "      <td>-2.558277</td>\n",
       "    </tr>\n",
       "  </tbody>\n",
       "</table>\n",
       "</div>"
      ],
      "text/plain": [
       "              GICS Sector  weighted_change %\n",
       "0  Consumer Discretionary          -7.628350\n",
       "1        Consumer Staples         -35.268713\n",
       "2                  Energy           4.111967\n",
       "3             Health Care          -8.482201\n",
       "4             Industrials          -5.717812\n",
       "5  Information Technology          -7.363309\n",
       "6               Materials         -16.657373\n",
       "7               Utilities          -2.558277"
      ]
     },
     "execution_count": 111,
     "metadata": {},
     "output_type": "execute_result"
    }
   ],
   "source": [
    "###################\n",
    "#Prominent  Consumer Staple companies - Pepsico & ESTEE LAUDER, all reported net investment decrease\n",
    "#Material: DowDuPont\n",
    "#Healthcare: Amgen, Anthem, GILEAD\n",
    "###################\n",
    "df_ps_agg.groupby(by = ['GICS Sector']).apply(lambda x: np.average(x['change %'], weights = x['investment_bal'])).reset_index().rename(columns = {0:'weighted_change %'})"
   ]
  },
  {
   "cell_type": "code",
   "execution_count": 35,
   "metadata": {
    "collapsed": true
   },
   "outputs": [],
   "source": [
    "#####################\n",
    "#Data for Visualization\n",
    "#Main is sorted by last period investment balance and reporting period\n",
    "#####################\n",
    "df_main = only_investments.rename(columns = {'value':'investment_bal'}).merge(agg, on = ['CIK'], how = 'outer')\\\n",
    ".merge(df_ps_agg, on = ['CIK','investment_bal','GICS Sector'], how = 'left').rename(columns = {'value':'total_cash'})\n",
    "df_main.loc[df_main['investment_bal_last_period'].isnull(),'investment_bal_last_period'] = df_main.loc[df_main['investment_bal_last_period'].isnull(),'investment_bal']\n",
    "df_main.to_excel('Main.xls', index = False)\n",
    "\n",
    "df_ps_agg[['CIK', 'reporting_period', 'this_period', 'GICS Sector']]\\\n",
    ".merge(df_ps,on = ['CIK', 'reporting_period', 'this_period', 'GICS Sector'], how = 'left')\\\n",
    ".to_excel('Cash Flow.xls',index = False)\n",
    "\n",
    "investment.to_excel('investment_composition.xls', index = False)"
   ]
  }
 ],
 "metadata": {
  "kernelspec": {
   "display_name": "Python 3",
   "language": "python",
   "name": "python3"
  },
  "language_info": {
   "codemirror_mode": {
    "name": "ipython",
    "version": 3
   },
   "file_extension": ".py",
   "mimetype": "text/x-python",
   "name": "python",
   "nbconvert_exporter": "python",
   "pygments_lexer": "ipython3",
   "version": "3.6.3"
  }
 },
 "nbformat": 4,
 "nbformat_minor": 2
}
